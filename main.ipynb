{
 "cells": [
  {
   "cell_type": "code",
   "execution_count": 15,
   "metadata": {},
   "outputs": [],
   "source": [
    "import cv2\n",
    "from io import BytesIO\n",
    "from IPython.display import clear_output, Image, display\n",
    "from PIL import Image as Img\n",
    "import numpy as np\n",
    "import os"
   ]
  },
  {
   "cell_type": "code",
   "execution_count": 2,
   "metadata": {},
   "outputs": [],
   "source": [
    "def padronizar_imagem(imagem):\n",
    "    imagem = cv2.cvtColor(imagem, cv2.COLOR_BGR2RGB)\n",
    "    imagem = cv2.resize(imagem, (400, 300))\n",
    "    return imagem\n",
    "\n",
    "\n",
    "def exibir_video(frame):\n",
    "    img = Img.fromarray(frame, \"RGB\")\n",
    "    buffer = BytesIO()\n",
    "    img.save(buffer, format=\"JPEG\")\n",
    "    display(Image(data=buffer.getvalue()))\n",
    "    clear_output(wait=True)\n"
   ]
  },
  {
   "cell_type": "code",
   "execution_count": 5,
   "metadata": {},
   "outputs": [
    {
     "name": "stdout",
     "output_type": "stream",
     "text": [
      "Interrompido\n"
     ]
    }
   ],
   "source": [
    "captura_video = cv2.VideoCapture(0)\n",
    "\n",
    "try:\n",
    "    while True:\n",
    "        captura_ok, frame = captura_video.read()\n",
    "\n",
    "        if captura_ok:\n",
    "            frame = padronizar_imagem(frame)\n",
    "            exibir_video(frame)\n",
    "\n",
    "except KeyboardInterrupt:\n",
    "    captura_video.release()\n",
    "    print(\"Interrompido\")\n"
   ]
  },
  {
   "cell_type": "code",
   "execution_count": 8,
   "metadata": {},
   "outputs": [
    {
     "name": "stdout",
     "output_type": "stream",
     "text": [
      "Interrompido\n"
     ]
    }
   ],
   "source": [
    "captura_video = cv2.VideoCapture(0)\n",
    "\n",
    "classificador_face = cv2.CascadeClassifier(\n",
    "    cv2.data.haarcascades + \"haarcascade_frontalface_default.xml\"\n",
    ")\n",
    "\n",
    "contador = 0\n",
    "\n",
    "try:\n",
    "    while True:\n",
    "        captura_ok, frame = captura_video.read()\n",
    "\n",
    "        if captura_ok:\n",
    "            frame = padronizar_imagem(frame)\n",
    "            frame_gray = cv2.cvtColor(frame, cv2.COLOR_RGB2GRAY)\n",
    "\n",
    "            faces = classificador_face.detectMultiScale(frame_gray, 1.3, 5)\n",
    "\n",
    "            if len(faces) > 0:\n",
    "                contador += 1\n",
    "                if contador <= 100:\n",
    "                    for x, y, w, h in faces:\n",
    "                        roi = frame_gray[y : y + h, x : x + w]\n",
    "                        cv2.resize(roi, (200, 200), interpolation=cv2.INTER_LANCZOS4)\n",
    "                        cv2.imwrite(\"./imagens/cris/\" + str(contador) + \".png\", roi)\n",
    "                    cv2.putText(\n",
    "                        frame,\n",
    "                        \"Coletado \" + str(contador) + \" faces\",\n",
    "                        (20, 20),\n",
    "                        cv2.FONT_HERSHEY_SIMPLEX,\n",
    "                        0.5,\n",
    "                        (255, 255, 0),\n",
    "                        2,\n",
    "                    )\n",
    "                else:\n",
    "                    cv2.putText(\n",
    "                        frame,\n",
    "                        \"ConcluIdo\",\n",
    "                        (20, 20),\n",
    "                        cv2.FONT_HERSHEY_SIMPLEX,\n",
    "                        0.5,\n",
    "                        (255, 255, 0),\n",
    "                        2,\n",
    "                    )\n",
    "\n",
    "            exibir_video(frame)\n",
    "\n",
    "except KeyboardInterrupt:\n",
    "    captura_video.release()\n",
    "    print(\"Interrompido\")\n"
   ]
  },
  {
   "cell_type": "code",
   "execution_count": 14,
   "metadata": {},
   "outputs": [],
   "source": [
    "faces_caminho_treinamento = \"imagens/cris/\"\n",
    "lista_faces_treinamento = [\n",
    "    f\n",
    "    for f in os.listdir(faces_caminho_treinamento)\n",
    "    if os.path.isfile(os.path.join(faces_caminho_treinamento, f))\n",
    "]\n"
   ]
  },
  {
   "cell_type": "code",
   "execution_count": 16,
   "metadata": {},
   "outputs": [],
   "source": [
    "dados_treinamento, sujeitos = [], []\n",
    "\n",
    "for i, arquivo in enumerate(lista_faces_treinamento):\n",
    "    imagem_caminho = faces_caminho_treinamento + arquivo\n",
    "    imagem = cv2.imread(imagem_caminho, cv2.IMREAD_GRAYSCALE)\n",
    "    dados_treinamento.append(imagem)\n",
    "    sujeitos.append(0)\n",
    "\n",
    "sujeitos = np.asarray(sujeitos, dtype=np.int32)\n"
   ]
  },
  {
   "cell_type": "code",
   "execution_count": 17,
   "metadata": {},
   "outputs": [],
   "source": [
    "model_lbph = cv2.face.LBPHFaceRecognizer_create()\n",
    "model_lbph.train(dados_treinamento, sujeitos)"
   ]
  },
  {
   "cell_type": "code",
   "execution_count": 23,
   "metadata": {},
   "outputs": [
    {
     "name": "stdout",
     "output_type": "stream",
     "text": [
      "Interrompido\n"
     ]
    }
   ],
   "source": [
    "captura_video = cv2.VideoCapture(0)\n",
    "classificador_face = cv2.CascadeClassifier(cv2.data.haarcascades + \"haarcascade_frontalface_default.xml\")\n",
    "contador = 0\n",
    "\n",
    "try:\n",
    "    while True:\n",
    "        captura_ok, frame = captura_video.read()\n",
    "\n",
    "        if captura_ok:\n",
    "            frame = padronizar_imagem(frame)\n",
    "            frame_gray = cv2.cvtColor(frame, cv2.COLOR_RGB2GRAY)\n",
    "            faces = classificador_face.detectMultiScale(frame_gray, 1.3, 5)\n",
    "\n",
    "            if len(faces) > 0:\n",
    "                for x, y, w, h in faces:\n",
    "                    roi = frame_gray[y : y + h, x : x + w]\n",
    "                    roi = cv2.resize(roi, (200, 200), interpolation=cv2.INTER_LANCZOS4)\n",
    "                    predicao = model_lbph.predict(roi)\n",
    "                    cv2.putText(\n",
    "                        frame,\n",
    "                        \"Similaridade \" + str(predicao),\n",
    "                        (x, y),\n",
    "                        cv2.FONT_HERSHEY_SIMPLEX,\n",
    "                        0.5,\n",
    "                        (255, 255, 0),\n",
    "                        2,\n",
    "                    )\n",
    "\n",
    "            exibir_video(frame)\n",
    "\n",
    "except KeyboardInterrupt:\n",
    "    captura_video.release()\n",
    "    print(\"Interrompido\")\n"
   ]
  }
 ],
 "metadata": {
  "kernelspec": {
   "display_name": "venv",
   "language": "python",
   "name": "python3"
  },
  "language_info": {
   "codemirror_mode": {
    "name": "ipython",
    "version": 3
   },
   "file_extension": ".py",
   "mimetype": "text/x-python",
   "name": "python",
   "nbconvert_exporter": "python",
   "pygments_lexer": "ipython3",
   "version": "3.10.4"
  },
  "orig_nbformat": 4
 },
 "nbformat": 4,
 "nbformat_minor": 2
}
